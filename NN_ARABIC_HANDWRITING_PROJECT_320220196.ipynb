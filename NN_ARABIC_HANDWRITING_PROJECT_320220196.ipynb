{
 "cells": [
  {
   "cell_type": "markdown",
   "id": "841b5a79",
   "metadata": {
    "vscode": {
     "languageId": "plaintext"
    }
   },
   "source": [
    "# <div> <center> <b> NN Arabic Handwriting Recognition </b> </center> </div>\n",
    "\n",
    "- Name: Moaz Mohamed Mahmoud Eid \n",
    "- ID: 320220196\n",
    "- Group: 1\n",
    "- Section: CNC 3\n",
    "\n",
    "## <b> Notebook Workflow: </b>\n",
    "- Environment Setup\n",
    "- Data Pre-processing\n",
    "- Data Visualization\n",
    "- Model \n",
    "- VISUALIZE THE MODEL\n",
    "\n",
    "## <b> Introduction: </b>\n",
    "<p> In this notebook, a model is to be trained to <b> recognize/classify arabic letters </b> using a convolutional neural network (CNN) through Keras, a TensorFlow tool. </p>\n",
    "\n",
    "## <b> Dataset: </b>\n",
    "https://www.kaggle.com/competitions/arabic-letters-classification"
   ]
  },
  {
   "cell_type": "markdown",
   "id": "a0cd94a2",
   "metadata": {},
   "source": [
    "***Environment Setup***"
   ]
  },
  {
   "cell_type": "code",
   "execution_count": 1,
   "id": "5de1ba5f",
   "metadata": {
    "_cell_guid": "b1076dfc-b9ad-4769-8c92-a6c4dae69d19",
    "_uuid": "8f2839f25d086af736a60e9eeb907d3b93b6e0e5",
    "execution": {
     "iopub.execute_input": "2024-01-08T18:37:33.008818Z",
     "iopub.status.busy": "2024-01-08T18:37:33.008508Z",
     "iopub.status.idle": "2024-01-08T18:37:41.335707Z",
     "shell.execute_reply": "2024-01-08T18:37:41.334728Z"
    },
    "papermill": {
     "duration": 8.340245,
     "end_time": "2024-01-08T18:37:41.338253",
     "exception": false,
     "start_time": "2024-01-08T18:37:32.998008",
     "status": "completed"
    },
    "tags": []
   },
   "outputs": [
    {
     "name": "stderr",
     "output_type": "stream",
     "text": [
      "/opt/conda/lib/python3.10/site-packages/scipy/__init__.py:146: UserWarning: A NumPy version >=1.16.5 and <1.23.0 is required for this version of SciPy (detected version 1.24.3\n",
      "  warnings.warn(f\"A NumPy version >={np_minversion} and <{np_maxversion}\"\n"
     ]
    }
   ],
   "source": [
    "import os\n",
    "import matplotlib.pyplot as plt\n",
    "import numpy as np\n",
    "import torch\n",
    "import torch.nn as nn\n",
    "import torch.optim as optim\n",
    "from torch.optim import lr_scheduler\n",
    "from torch.utils.data import DataLoader, random_split , Dataset\n",
    "from torchvision import models, transforms, datasets\n",
    "from PIL import Image\n",
    "from sklearn.metrics import confusion_matrix\n",
    "import csv"
   ]
  },
  {
   "cell_type": "code",
   "execution_count": 2,
   "id": "50f4ae42",
   "metadata": {
    "execution": {
     "iopub.execute_input": "2024-01-08T18:37:41.373462Z",
     "iopub.status.busy": "2024-01-08T18:37:41.373078Z",
     "iopub.status.idle": "2024-01-08T18:37:41.377784Z",
     "shell.execute_reply": "2024-01-08T18:37:41.376796Z"
    },
    "papermill": {
     "duration": 0.016093,
     "end_time": "2024-01-08T18:37:41.379742",
     "exception": false,
     "start_time": "2024-01-08T18:37:41.363649",
     "status": "completed"
    },
    "tags": []
   },
   "outputs": [],
   "source": [
    "train_dir = '/kaggle/input/arabic-letters-classification/Final_Arabic_Alpha_dataset/Final_Arabic_Alpha_dataset/train'\n",
    "num_classes = 65\n",
    "image_shape = (224, 224)"
   ]
  },
  {
   "cell_type": "markdown",
   "id": "640c35a8",
   "metadata": {
    "papermill": {
     "duration": 0.007856,
     "end_time": "2024-01-08T18:37:41.396113",
     "exception": false,
     "start_time": "2024-01-08T18:37:41.388257",
     "status": "completed"
    },
    "tags": []
   },
   "source": [
    "***DATA PRE-PROCESSING***"
   ]
  },
  {
   "cell_type": "code",
   "execution_count": 3,
   "id": "2371deae",
   "metadata": {
    "execution": {
     "iopub.execute_input": "2024-01-08T18:37:41.414163Z",
     "iopub.status.busy": "2024-01-08T18:37:41.413856Z",
     "iopub.status.idle": "2024-01-08T18:37:41.423042Z",
     "shell.execute_reply": "2024-01-08T18:37:41.422216Z"
    },
    "papermill": {
     "duration": 0.020483,
     "end_time": "2024-01-08T18:37:41.424975",
     "exception": false,
     "start_time": "2024-01-08T18:37:41.404492",
     "status": "completed"
    },
    "tags": []
   },
   "outputs": [],
   "source": [
    "class MakeDataset(Dataset):\n",
    "    def __init__(self, root_folder, transform=None):\n",
    "        self.root_folder = root_folder\n",
    "        self.transform = transform\n",
    "        self.classes = sorted(os.listdir(root_folder), key=lambda x: int(x))\n",
    "        self.class_to_idx = {cls: i for i, cls in enumerate(self.classes)}\n",
    "        self.images = self.make_dataset()\n",
    "\n",
    "    def make_dataset(self):\n",
    "        images = []\n",
    "        for label in self.classes:\n",
    "            label_folder = os.path.join(self.root_folder, label)\n",
    "            for image_name in os.listdir(label_folder):\n",
    "                image_path = os.path.join(label_folder, image_name)\n",
    "                item = (image_path, self.class_to_idx[label])\n",
    "                images.append(item)\n",
    "        return images\n",
    "\n",
    "    def __len__(self):\n",
    "        return len(self.images)\n",
    "\n",
    "    def __getitem__(self, index):\n",
    "        image_path, label = self.images[index]\n",
    "        image = Image.open(image_path).convert(\"RGB\")\n",
    "\n",
    "        if self.transform:\n",
    "            image = self.transform(image)\n",
    "\n",
    "        return image, label"
   ]
  },
  {
   "cell_type": "code",
   "execution_count": 4,
   "id": "274b67f1",
   "metadata": {
    "execution": {
     "iopub.execute_input": "2024-01-08T18:37:41.442523Z",
     "iopub.status.busy": "2024-01-08T18:37:41.442261Z",
     "iopub.status.idle": "2024-01-08T18:37:41.447180Z",
     "shell.execute_reply": "2024-01-08T18:37:41.446252Z"
    },
    "papermill": {
     "duration": 0.016252,
     "end_time": "2024-01-08T18:37:41.449472",
     "exception": false,
     "start_time": "2024-01-08T18:37:41.433220",
     "status": "completed"
    },
    "tags": []
   },
   "outputs": [],
   "source": [
    "transform = transforms.Compose([\n",
    "    transforms.Grayscale(num_output_channels=3),\n",
    "    transforms.Resize(image_shape),\n",
    "    transforms.ToTensor(),\n",
    "    transforms.Normalize(mean=[0.485, 0.456, 0.406], std=[0.229, 0.224, 0.225]),\n",
    "])"
   ]
  },
  {
   "cell_type": "code",
   "execution_count": 5,
   "id": "7babf4b9",
   "metadata": {
    "execution": {
     "iopub.execute_input": "2024-01-08T18:37:41.469616Z",
     "iopub.status.busy": "2024-01-08T18:37:41.469292Z",
     "iopub.status.idle": "2024-01-08T18:37:55.336386Z",
     "shell.execute_reply": "2024-01-08T18:37:55.335358Z"
    },
    "papermill": {
     "duration": 13.880383,
     "end_time": "2024-01-08T18:37:55.339015",
     "exception": false,
     "start_time": "2024-01-08T18:37:41.458632",
     "status": "completed"
    },
    "tags": []
   },
   "outputs": [],
   "source": [
    "dataset = MakeDataset(train_dir, transform=transform)"
   ]
  },
  {
   "cell_type": "code",
   "execution_count": 6,
   "id": "2f29c0b3",
   "metadata": {
    "execution": {
     "iopub.execute_input": "2024-01-08T18:37:55.357613Z",
     "iopub.status.busy": "2024-01-08T18:37:55.357246Z",
     "iopub.status.idle": "2024-01-08T18:37:55.402414Z",
     "shell.execute_reply": "2024-01-08T18:37:55.401426Z"
    },
    "papermill": {
     "duration": 0.056816,
     "end_time": "2024-01-08T18:37:55.404569",
     "exception": false,
     "start_time": "2024-01-08T18:37:55.347753",
     "status": "completed"
    },
    "tags": []
   },
   "outputs": [],
   "source": [
    "train_size = int(0.8 * len(dataset))\n",
    "val_size = int(0.1 * len(dataset))\n",
    "test_size = len(dataset) - train_size - val_size\n",
    "train_dataset, val_dataset, test_dataset = random_split(dataset, [train_size, val_size, test_size])"
   ]
  },
  {
   "cell_type": "code",
   "execution_count": 7,
   "id": "c7790d99",
   "metadata": {
    "execution": {
     "iopub.execute_input": "2024-01-08T18:37:55.423091Z",
     "iopub.status.busy": "2024-01-08T18:37:55.422521Z",
     "iopub.status.idle": "2024-01-08T18:37:55.426322Z",
     "shell.execute_reply": "2024-01-08T18:37:55.425506Z"
    },
    "papermill": {
     "duration": 0.015163,
     "end_time": "2024-01-08T18:37:55.428453",
     "exception": false,
     "start_time": "2024-01-08T18:37:55.413290",
     "status": "completed"
    },
    "tags": []
   },
   "outputs": [],
   "source": [
    "batch_size = 8"
   ]
  },
  {
   "cell_type": "code",
   "execution_count": 8,
   "id": "7b4d8dcd",
   "metadata": {
    "execution": {
     "iopub.execute_input": "2024-01-08T18:37:55.446544Z",
     "iopub.status.busy": "2024-01-08T18:37:55.446189Z",
     "iopub.status.idle": "2024-01-08T18:37:55.451301Z",
     "shell.execute_reply": "2024-01-08T18:37:55.450459Z"
    },
    "papermill": {
     "duration": 0.016805,
     "end_time": "2024-01-08T18:37:55.453257",
     "exception": false,
     "start_time": "2024-01-08T18:37:55.436452",
     "status": "completed"
    },
    "tags": []
   },
   "outputs": [],
   "source": [
    "train_loader = DataLoader(train_dataset, batch_size=batch_size, shuffle=True)\n",
    "val_loader = DataLoader(val_dataset, batch_size=batch_size, shuffle=False)\n",
    "test_loader = DataLoader(test_dataset, batch_size=batch_size, shuffle=False)"
   ]
  },
  {
   "cell_type": "markdown",
   "id": "5b6958ff",
   "metadata": {
    "papermill": {
     "duration": 0.008238,
     "end_time": "2024-01-08T18:37:55.469671",
     "exception": false,
     "start_time": "2024-01-08T18:37:55.461433",
     "status": "completed"
    },
    "tags": []
   },
   "source": [
    "***DATA VISUALIZATION***"
   ]
  },
  {
   "cell_type": "code",
   "execution_count": 9,
   "id": "b5c84081",
   "metadata": {
    "execution": {
     "iopub.execute_input": "2024-01-08T18:37:55.488342Z",
     "iopub.status.busy": "2024-01-08T18:37:55.488027Z",
     "iopub.status.idle": "2024-01-08T18:37:55.493456Z",
     "shell.execute_reply": "2024-01-08T18:37:55.492599Z"
    },
    "papermill": {
     "duration": 0.017409,
     "end_time": "2024-01-08T18:37:55.495584",
     "exception": false,
     "start_time": "2024-01-08T18:37:55.478175",
     "status": "completed"
    },
    "tags": []
   },
   "outputs": [],
   "source": [
    "def show_images(images, labels, ncols=8):\n",
    "    figure, axes = plt.subplots(nrows=1, ncols=ncols, figsize=(15, 2))\n",
    "    for i, ax in enumerate(axes):\n",
    "        ax.imshow(np.transpose(images[i], (1, 2, 0)))\n",
    "        ax.set_title(f'Class: {labels[i]}')\n",
    "        ax.axis('off')"
   ]
  },
  {
   "cell_type": "code",
   "execution_count": 10,
   "id": "3de7ceca",
   "metadata": {
    "execution": {
     "iopub.execute_input": "2024-01-08T18:37:55.513779Z",
     "iopub.status.busy": "2024-01-08T18:37:55.513450Z",
     "iopub.status.idle": "2024-01-08T18:37:55.742667Z",
     "shell.execute_reply": "2024-01-08T18:37:55.741631Z"
    },
    "papermill": {
     "duration": 0.240744,
     "end_time": "2024-01-08T18:37:55.745010",
     "exception": false,
     "start_time": "2024-01-08T18:37:55.504266",
     "status": "completed"
    },
    "tags": []
   },
   "outputs": [],
   "source": [
    "data_iter = iter(train_loader)\n",
    "images, labels = data_iter.__next__()"
   ]
  },
  {
   "cell_type": "code",
   "execution_count": 11,
   "id": "bcd23666",
   "metadata": {
    "execution": {
     "iopub.execute_input": "2024-01-08T18:37:55.763766Z",
     "iopub.status.busy": "2024-01-08T18:37:55.763235Z",
     "iopub.status.idle": "2024-01-08T18:37:56.425912Z",
     "shell.execute_reply": "2024-01-08T18:37:56.425032Z"
    },
    "papermill": {
     "duration": 0.674662,
     "end_time": "2024-01-08T18:37:56.428466",
     "exception": false,
     "start_time": "2024-01-08T18:37:55.753804",
     "status": "completed"
    },
    "tags": []
   },
   "outputs": [
    {
     "data": {
      "image/png": "[encoded data removed]",
      "text/plain": [
       "<Figure size 1500x200 with 8 Axes>"
      ]
     },
     "metadata": {},
     "output_type": "display_data"
    }
   ],
   "source": [
    "show_images(images, labels)\n",
    "plt.show()"
   ]
  },
  {
   "cell_type": "markdown",
   "id": "44ba62e6",
   "metadata": {
    "papermill": {
     "duration": 0.008826,
     "end_time": "2024-01-08T18:37:56.446120",
     "exception": false,
     "start_time": "2024-01-08T18:37:56.437294",
     "status": "completed"
    },
    "tags": []
   },
   "source": [
    "***MODEL***"
   ]
  },
  {
   "cell_type": "code",
   "execution_count": 12,
   "id": "d13158f7",
   "metadata": {
    "execution": {
     "iopub.execute_input": "2024-01-08T18:37:56.465940Z",
     "iopub.status.busy": "2024-01-08T18:37:56.465143Z",
     "iopub.status.idle": "2024-01-08T18:37:59.418475Z",
     "shell.execute_reply": "2024-01-08T18:37:59.417442Z"
    },
    "papermill": {
     "duration": 2.966485,
     "end_time": "2024-01-08T18:37:59.421259",
     "exception": false,
     "start_time": "2024-01-08T18:37:56.454774",
     "status": "completed"
    },
    "tags": []
   },
   "outputs": [
    {
     "name": "stderr",
     "output_type": "stream",
     "text": [
      "/opt/conda/lib/python3.10/site-packages/torchvision/models/_utils.py:208: UserWarning: The parameter 'pretrained' is deprecated since 0.13 and may be removed in the future, please use 'weights' instead.\n",
      "  warnings.warn(\n",
      "/opt/conda/lib/python3.10/site-packages/torchvision/models/_utils.py:223: UserWarning: Arguments other than a weight enum or `None` for 'weights' are deprecated since 0.13 and may be removed in the future. The current behavior is equivalent to passing `weights=EfficientNet_B7_Weights.IMAGENET1K_V1`. You can also use `weights=EfficientNet_B7_Weights.DEFAULT` to get the most up-to-date weights.\n",
      "  warnings.warn(msg)\n",
      "Downloading: \"https://download.pytorch.org/models/efficientnet_b7_lukemelas-dcc49843.pth\" to /root/.cache/torch/hub/checkpoints/efficientnet_b7_lukemelas-dcc49843.pth\n",
      "100%|██████████| 255M/255M [00:01<00:00, 231MB/s]\n"
     ]
    }
   ],
   "source": [
    "model = models.efficientnet_b7(pretrained=True)"
   ]
  },
  {
   "cell_type": "code",
   "execution_count": 13,
   "id": "15a45596",
   "metadata": {
    "execution": {
     "iopub.execute_input": "2024-01-08T18:37:59.447613Z",
     "iopub.status.busy": "2024-01-08T18:37:59.446909Z",
     "iopub.status.idle": "2024-01-08T18:37:59.454516Z",
     "shell.execute_reply": "2024-01-08T18:37:59.453610Z"
    },
    "papermill": {
     "duration": 0.023597,
     "end_time": "2024-01-08T18:37:59.456903",
     "exception": false,
     "start_time": "2024-01-08T18:37:59.433306",
     "status": "completed"
    },
    "tags": []
   },
   "outputs": [],
   "source": [
    "\n",
    "# Assuming the classifier attribute is 'classifier', get the last layer in the Sequential\n",
    "last_layer = list(model.classifier.children())[-1]\n",
    "\n",
    "\n",
    "# Replace it with the correct attribute name\n",
    "if isinstance(last_layer, nn.Linear):\n",
    "    in_features = last_layer.in_features\n",
    "    model.classifier[-1] = nn.Linear(in_features, num_classes)\n",
    "else:\n",
    "    raise ValueError(\"The last layer of the classifier is not Linear, please adjust the code accordingly.\")"
   ]
  },
  {
   "cell_type": "code",
   "execution_count": 14,
   "id": "4164e683",
   "metadata": {
    "execution": {
     "iopub.execute_input": "2024-01-08T18:37:59.482830Z",
     "iopub.status.busy": "2024-01-08T18:37:59.481989Z",
     "iopub.status.idle": "2024-01-08T18:37:59.493834Z",
     "shell.execute_reply": "2024-01-08T18:37:59.492705Z"
    },
    "papermill": {
     "duration": 0.027209,
     "end_time": "2024-01-08T18:37:59.496053",
     "exception": false,
     "start_time": "2024-01-08T18:37:59.468844",
     "status": "completed"
    },
    "tags": []
   },
   "outputs": [],
   "source": [
    "criterion = nn.CrossEntropyLoss()\n",
    "optimizer = optim.Adam(model.parameters(), lr=0.0001)\n",
    "scheduler = lr_scheduler.StepLR(optimizer, step_size=7, gamma=0.1)"
   ]
  },
  {
   "cell_type": "code",
   "execution_count": 15,
   "id": "440a84fe",
   "metadata": {
    "execution": {
     "iopub.execute_input": "2024-01-08T18:37:59.522128Z",
     "iopub.status.busy": "2024-01-08T18:37:59.521591Z",
     "iopub.status.idle": "2024-01-08T18:37:59.616422Z",
     "shell.execute_reply": "2024-01-08T18:37:59.615367Z"
    },
    "papermill": {
     "duration": 0.111297,
     "end_time": "2024-01-08T18:37:59.619422",
     "exception": false,
     "start_time": "2024-01-08T18:37:59.508125",
     "status": "completed"
    },
    "tags": []
   },
   "outputs": [
    {
     "name": "stdout",
     "output_type": "stream",
     "text": [
      "cuda:0\n"
     ]
    }
   ],
   "source": [
    "device = torch.device(\"cuda:0\" if torch.cuda.is_available() else \"cpu\")\n",
    "print(device)"
   ]
  },
  {
   "cell_type": "code",
   "execution_count": 16,
   "id": "c00678dd",
   "metadata": {
    "execution": {
     "iopub.execute_input": "2024-01-08T18:37:59.644682Z",
     "iopub.status.busy": "2024-01-08T18:37:59.644338Z",
     "iopub.status.idle": "2024-01-08T18:37:59.648896Z",
     "shell.execute_reply": "2024-01-08T18:37:59.647919Z"
    },
    "papermill": {
     "duration": 0.019671,
     "end_time": "2024-01-08T18:37:59.651021",
     "exception": false,
     "start_time": "2024-01-08T18:37:59.631350",
     "status": "completed"
    },
    "tags": []
   },
   "outputs": [],
   "source": [
    "torch.cuda.empty_cache()"
   ]
  },
  {
   "cell_type": "code",
   "execution_count": 17,
   "id": "0f21b5a9",
   "metadata": {
    "execution": {
     "iopub.execute_input": "2024-01-08T18:37:59.675733Z",
     "iopub.status.busy": "2024-01-08T18:37:59.674951Z",
     "iopub.status.idle": "2024-01-08T18:37:59.987930Z",
     "shell.execute_reply": "2024-01-08T18:37:59.986815Z"
    },
    "papermill": {
     "duration": 0.328226,
     "end_time": "2024-01-08T18:37:59.990471",
     "exception": false,
     "start_time": "2024-01-08T18:37:59.662245",
     "status": "completed"
    },
    "tags": []
   },
   "outputs": [],
   "source": [
    "model = model.to(device)"
   ]
  },
  {
   "cell_type": "code",
   "execution_count": 18,
   "id": "7895686b",
   "metadata": {
    "execution": {
     "iopub.execute_input": "2024-01-08T18:38:00.014925Z",
     "iopub.status.busy": "2024-01-08T18:38:00.014546Z",
     "iopub.status.idle": "2024-01-08T18:38:00.019604Z",
     "shell.execute_reply": "2024-01-08T18:38:00.018618Z"
    },
    "papermill": {
     "duration": 0.020037,
     "end_time": "2024-01-08T18:38:00.021836",
     "exception": false,
     "start_time": "2024-01-08T18:38:00.001799",
     "status": "completed"
    },
    "tags": []
   },
   "outputs": [],
   "source": [
    "num_epochs = 10\n",
    "desired_training_accuracy = 99.999\n",
    "early_stopping_threshold = 5  \n",
    "early_stopping_counter = 0\n",
    "best_val_loss = float('inf')"
   ]
  },
  {
   "cell_type": "code",
   "execution_count": 19,
   "id": "c99b13a4",
   "metadata": {
    "execution": {
     "iopub.execute_input": "2024-01-08T18:38:00.045355Z",
     "iopub.status.busy": "2024-01-08T18:38:00.045053Z",
     "iopub.status.idle": "2024-01-08T18:38:00.049682Z",
     "shell.execute_reply": "2024-01-08T18:38:00.048887Z"
    },
    "papermill": {
     "duration": 0.018956,
     "end_time": "2024-01-08T18:38:00.051665",
     "exception": false,
     "start_time": "2024-01-08T18:38:00.032709",
     "status": "completed"
    },
    "tags": []
   },
   "outputs": [],
   "source": [
    "# Lists to store training and validation metrics for plotting curves\n",
    "train_losses = []\n",
    "train_accuracies = []\n",
    "val_losses = []\n",
    "val_accuracies = []\n",
    "predictions = []\n",
    "targets = []"
   ]
  },
  {
   "cell_type": "code",
   "execution_count": 20,
   "id": "8eb83245",
   "metadata": {
    "execution": {
     "iopub.execute_input": "2024-01-08T18:38:00.073243Z",
     "iopub.status.busy": "2024-01-08T18:38:00.072981Z",
     "iopub.status.idle": "2024-01-08T23:04:50.596698Z",
     "shell.execute_reply": "2024-01-08T23:04:50.595542Z"
    },
    "papermill": {
     "duration": 16010.58293,
     "end_time": "2024-01-08T23:04:50.644701",
     "exception": false,
     "start_time": "2024-01-08T18:38:00.061771",
     "status": "completed"
    },
    "tags": []
   },
   "outputs": [
    {
     "name": "stdout",
     "output_type": "stream",
     "text": [
      "Epoch 1/10, Batch 100/4256, Training Loss: 4.124185509681702, Training Accuracy: 4.375\n",
      "Epoch 1/10, Batch 200/4256, Training Loss: 3.7773484778404236, Training Accuracy: 11.125\n",
      "Epoch 1/10, Batch 300/4256, Training Loss: 2.9293333959579466, Training Accuracy: 19.583333333333332\n",
      "Epoch 1/10, Batch 400/4256, Training Loss: 2.19267502784729, Training Accuracy: 26.625\n",
      "Epoch 1/10, Batch 500/4256, Training Loss: 1.6253467965126038, Training Accuracy: 33.625\n",
      "Epoch 1/10, Batch 600/4256, Training Loss: 1.2263854894042014, Training Accuracy: 39.729166666666664\n",
      "Epoch 1/10, Batch 700/4256, Training Loss: 0.9460088264942169, Training Accuracy: 45.339285714285715\n",
      "Epoch 1/10, Batch 800/4256, Training Loss: 0.8624330323934555, Training Accuracy: 49.453125\n",
      "Epoch 1/10, Batch 900/4256, Training Loss: 0.792962740957737, Training Accuracy: 52.888888888888886\n",
      "Epoch 1/10, Batch 1000/4256, Training Loss: 0.6444958533346653, Training Accuracy: 56.0375\n",
      "Epoch 1/10, Batch 1100/4256, Training Loss: 0.5727569606900215, Training Accuracy: 58.77272727272727\n",
      "Epoch 1/10, Batch 1200/4256, Training Loss: 0.5438043874502182, Training Accuracy: 60.979166666666664\n",
      "Epoch 1/10, Batch 1300/4256, Training Loss: 0.5528531627357006, Training Accuracy: 62.82692307692308\n",
      "Epoch 1/10, Batch 1400/4256, Training Loss: 0.563034025579691, Training Accuracy: 64.40178571428571\n",
      "Epoch 1/10, Batch 1500/4256, Training Loss: 0.48266177363693713, Training Accuracy: 65.88333333333334\n",
      "Epoch 1/10, Batch 1600/4256, Training Loss: 0.49868228115141394, Training Accuracy: 67.234375\n",
      "Epoch 1/10, Batch 1700/4256, Training Loss: 0.46061056239530446, Training Accuracy: 68.50735294117646\n",
      "Epoch 1/10, Batch 1800/4256, Training Loss: 0.470979642085731, Training Accuracy: 69.53472222222223\n",
      "Epoch 1/10, Batch 1900/4256, Training Loss: 0.41418004836887123, Training Accuracy: 70.53289473684211\n",
      "Epoch 1/10, Batch 2000/4256, Training Loss: 0.4496972021833062, Training Accuracy: 71.35625\n",
      "Epoch 1/10, Batch 2100/4256, Training Loss: 0.468181141987443, Training Accuracy: 72.16071428571429\n",
      "Epoch 1/10, Batch 2200/4256, Training Loss: 0.45032458018511534, Training Accuracy: 72.83522727272727\n",
      "Epoch 1/10, Batch 2300/4256, Training Loss: 0.29706407751888037, Training Accuracy: 73.65217391304348\n",
      "Epoch 1/10, Batch 2400/4256, Training Loss: 0.3259588428772986, Training Accuracy: 74.36979166666667\n",
      "Epoch 1/10, Batch 2500/4256, Training Loss: 0.3387560526281595, Training Accuracy: 75.035\n",
      "Epoch 1/10, Batch 2600/4256, Training Loss: 0.35456262465566396, Training Accuracy: 75.625\n",
      "Epoch 1/10, Batch 2700/4256, Training Loss: 0.3965927304327488, Training Accuracy: 76.12962962962963\n",
      "Epoch 1/10, Batch 2800/4256, Training Loss: 0.3566816987842321, Training Accuracy: 76.58482142857143\n",
      "Epoch 1/10, Batch 2900/4256, Training Loss: 0.36035098470747473, Training Accuracy: 77.06896551724138\n",
      "Epoch 1/10, Batch 3000/4256, Training Loss: 0.3523517127521336, Training Accuracy: 77.50416666666666\n",
      "Epoch 1/10, Batch 3100/4256, Training Loss: 0.3113074062205851, Training Accuracy: 77.95564516129032\n",
      "Epoch 1/10, Batch 3200/4256, Training Loss: 0.3475739658996463, Training Accuracy: 78.34765625\n",
      "Epoch 1/10, Batch 3300/4256, Training Loss: 0.30999601769261065, Training Accuracy: 78.77651515151516\n",
      "Epoch 1/10, Batch 3400/4256, Training Loss: 0.3690255967527628, Training Accuracy: 79.09926470588235\n",
      "Epoch 1/10, Batch 3500/4256, Training Loss: 0.3112341702822596, Training Accuracy: 79.44285714285714\n",
      "Epoch 1/10, Batch 3600/4256, Training Loss: 0.2643716465122998, Training Accuracy: 79.80555555555556\n",
      "Epoch 1/10, Batch 3700/4256, Training Loss: 0.3261044611595571, Training Accuracy: 80.11824324324324\n",
      "Epoch 1/10, Batch 3800/4256, Training Loss: 0.35217418542131784, Training Accuracy: 80.3782894736842\n",
      "Epoch 1/10, Batch 3900/4256, Training Loss: 0.3436481664702296, Training Accuracy: 80.66025641025641\n",
      "Epoch 1/10, Batch 4000/4256, Training Loss: 0.2788342783227563, Training Accuracy: 80.94375\n",
      "Epoch 1/10, Batch 4100/4256, Training Loss: 0.32781771179288627, Training Accuracy: 81.1829268292683\n",
      "Epoch 1/10, Batch 4200/4256, Training Loss: 0.2743856553826481, Training Accuracy: 81.41071428571429\n",
      "Epoch 1/10, Training Loss: 0.003444780524701048, Training Accuracy: 81.55490938996094%, Validation Loss: 0.38785037273016787, Validation Accuracy: 90.48178613396006%\n",
      "Epoch 2/10, Batch 100/4256, Training Loss: 0.25994913585484025, Training Accuracy: 92.25\n",
      "Epoch 2/10, Batch 200/4256, Training Loss: 0.28282551555894314, Training Accuracy: 92.1875\n",
      "Epoch 2/10, Batch 300/4256, Training Loss: 0.21272916441084816, Training Accuracy: 92.875\n",
      "Epoch 2/10, Batch 400/4256, Training Loss: 0.26022659947630017, Training Accuracy: 93.0\n",
      "Epoch 2/10, Batch 500/4256, Training Loss: 0.23875768801197408, Training Accuracy: 93.0\n",
      "Epoch 2/10, Batch 600/4256, Training Loss: 0.2520137283951044, Training Accuracy: 92.95833333333333\n",
      "Epoch 2/10, Batch 700/4256, Training Loss: 0.18932154387235642, Training Accuracy: 93.05357142857143\n",
      "Epoch 2/10, Batch 800/4256, Training Loss: 0.19042531246319414, Training Accuracy: 93.109375\n",
      "Epoch 2/10, Batch 900/4256, Training Loss: 0.25973658767528834, Training Accuracy: 93.16666666666667\n",
      "Epoch 2/10, Batch 1000/4256, Training Loss: 0.22469314308837057, Training Accuracy: 93.2\n",
      "Epoch 2/10, Batch 1100/4256, Training Loss: 0.28862326085567475, Training Accuracy: 93.10227272727273\n",
      "Epoch 2/10, Batch 1200/4256, Training Loss: 0.23670765130314975, Training Accuracy: 93.16666666666667\n",
      "Epoch 2/10, Batch 1300/4256, Training Loss: 0.23279261663090436, Training Accuracy: 93.15384615384616\n",
      "Epoch 2/10, Batch 1400/4256, Training Loss: 0.2742745140753686, Training Accuracy: 93.10714285714286\n",
      "Epoch 2/10, Batch 1500/4256, Training Loss: 0.2607222282513976, Training Accuracy: 93.05833333333334\n",
      "Epoch 2/10, Batch 1600/4256, Training Loss: 0.23620451284572483, Training Accuracy: 93.0078125\n",
      "Epoch 2/10, Batch 1700/4256, Training Loss: 0.3061943697370589, Training Accuracy: 92.88970588235294\n",
      "Epoch 2/10, Batch 1800/4256, Training Loss: 0.27357494896277784, Training Accuracy: 92.81944444444444\n",
      "Epoch 2/10, Batch 1900/4256, Training Loss: 0.22474916433915496, Training Accuracy: 92.83552631578948\n",
      "Epoch 2/10, Batch 2000/4256, Training Loss: 0.20467798490077257, Training Accuracy: 92.925\n",
      "Epoch 2/10, Batch 2100/4256, Training Loss: 0.21256110242567958, Training Accuracy: 92.96428571428571\n",
      "Epoch 2/10, Batch 2200/4256, Training Loss: 0.24083722452633083, Training Accuracy: 92.9659090909091\n",
      "Epoch 2/10, Batch 2300/4256, Training Loss: 0.24332047323696315, Training Accuracy: 92.98913043478261\n",
      "Epoch 2/10, Batch 2400/4256, Training Loss: 0.21733678195625544, Training Accuracy: 93.00520833333333\n",
      "Epoch 2/10, Batch 2500/4256, Training Loss: 0.26226074901409446, Training Accuracy: 92.985\n",
      "Epoch 2/10, Batch 2600/4256, Training Loss: 0.26753145854920146, Training Accuracy: 92.96634615384616\n",
      "Epoch 2/10, Batch 2700/4256, Training Loss: 0.18621354564093054, Training Accuracy: 93.01851851851852\n",
      "Epoch 2/10, Batch 2800/4256, Training Loss: 0.25725853702053425, Training Accuracy: 93.00892857142857\n",
      "Epoch 2/10, Batch 2900/4256, Training Loss: 0.23622637120075524, Training Accuracy: 93.00862068965517\n",
      "Epoch 2/10, Batch 3000/4256, Training Loss: 0.22290690254420042, Training Accuracy: 93.0375\n",
      "Epoch 2/10, Batch 3100/4256, Training Loss: 0.22552016106434167, Training Accuracy: 93.03629032258064\n",
      "Epoch 2/10, Batch 3200/4256, Training Loss: 0.245823639864102, Training Accuracy: 93.01171875\n",
      "Epoch 2/10, Batch 3300/4256, Training Loss: 0.24006794440560042, Training Accuracy: 92.99621212121212\n",
      "Epoch 2/10, Batch 3400/4256, Training Loss: 0.19768692356999965, Training Accuracy: 93.03676470588235\n",
      "Epoch 2/10, Batch 3500/4256, Training Loss: 0.24079657111316918, Training Accuracy: 93.03928571428571\n",
      "Epoch 2/10, Batch 3600/4256, Training Loss: 0.20372448775917293, Training Accuracy: 93.05902777777777\n",
      "Epoch 2/10, Batch 3700/4256, Training Loss: 0.1889541972987354, Training Accuracy: 93.10810810810811\n",
      "Epoch 2/10, Batch 3800/4256, Training Loss: 0.18294052086770535, Training Accuracy: 93.15789473684211\n",
      "Epoch 2/10, Batch 3900/4256, Training Loss: 0.22507519889622926, Training Accuracy: 93.19551282051282\n",
      "Epoch 2/10, Batch 4000/4256, Training Loss: 0.18974751039408147, Training Accuracy: 93.228125\n",
      "Epoch 2/10, Batch 4100/4256, Training Loss: 0.12994112625252455, Training Accuracy: 93.3079268292683\n",
      "Epoch 2/10, Batch 4200/4256, Training Loss: 0.19630449184216558, Training Accuracy: 93.30952380952381\n",
      "Epoch 2/10, Training Loss: 0.001822603608899981, Training Accuracy: 93.3327459100655%, Validation Loss: 0.19844339415641643, Validation Accuracy: 94.61809635722679%\n",
      "Epoch 3/10, Batch 100/4256, Training Loss: 0.12845845643430948, Training Accuracy: 95.875\n",
      "Epoch 3/10, Batch 200/4256, Training Loss: 0.15820567028596996, Training Accuracy: 95.75\n",
      "Epoch 3/10, Batch 300/4256, Training Loss: 0.1808057072525844, Training Accuracy: 95.33333333333333\n",
      "Epoch 3/10, Batch 400/4256, Training Loss: 0.16725541471736505, Training Accuracy: 95.25\n",
      "Epoch 3/10, Batch 500/4256, Training Loss: 0.18022467425791547, Training Accuracy: 95.05\n",
      "Epoch 3/10, Batch 600/4256, Training Loss: 0.18389579465845599, Training Accuracy: 94.9375\n",
      "Epoch 3/10, Batch 700/4256, Training Loss: 0.1673477662843652, Training Accuracy: 94.98214285714286\n",
      "Epoch 3/10, Batch 800/4256, Training Loss: 0.1481939731910825, Training Accuracy: 95.046875\n",
      "Epoch 3/10, Batch 900/4256, Training Loss: 0.19341862637083979, Training Accuracy: 94.97222222222223\n",
      "Epoch 3/10, Batch 1000/4256, Training Loss: 0.17072574979159982, Training Accuracy: 94.9875\n",
      "Epoch 3/10, Batch 1100/4256, Training Loss: 0.1178856711112894, Training Accuracy: 95.1590909090909\n",
      "Epoch 3/10, Batch 1200/4256, Training Loss: 0.16304119907319545, Training Accuracy: 95.21875\n",
      "Epoch 3/10, Batch 1300/4256, Training Loss: 0.2233477434515953, Training Accuracy: 95.09615384615384\n",
      "Epoch 3/10, Batch 1400/4256, Training Loss: 0.18833110942970963, Training Accuracy: 95.03571428571429\n",
      "Epoch 3/10, Batch 1500/4256, Training Loss: 0.1906247348454781, Training Accuracy: 94.975\n",
      "Epoch 3/10, Batch 1600/4256, Training Loss: 0.2086566406604834, Training Accuracy: 94.921875\n",
      "Epoch 3/10, Batch 1700/4256, Training Loss: 0.14516201636986806, Training Accuracy: 94.99264705882354\n",
      "Epoch 3/10, Batch 1800/4256, Training Loss: 0.12820888422313145, Training Accuracy: 95.04861111111111\n",
      "Epoch 3/10, Batch 1900/4256, Training Loss: 0.16859841905534267, Training Accuracy: 94.97368421052632\n",
      "Epoch 3/10, Batch 2000/4256, Training Loss: 0.19568819362670184, Training Accuracy: 94.89375\n",
      "Epoch 3/10, Batch 2100/4256, Training Loss: 0.17834259617142378, Training Accuracy: 94.89285714285714\n",
      "Epoch 3/10, Batch 2200/4256, Training Loss: 0.22038208901416512, Training Accuracy: 94.85795454545455\n",
      "Epoch 3/10, Batch 2300/4256, Training Loss: 0.21271775648463517, Training Accuracy: 94.78260869565217\n",
      "Epoch 3/10, Batch 2400/4256, Training Loss: 0.15520692241378128, Training Accuracy: 94.80729166666667\n",
      "Epoch 3/10, Batch 2500/4256, Training Loss: 0.1506979485298507, Training Accuracy: 94.83\n",
      "Epoch 3/10, Batch 2600/4256, Training Loss: 0.19459253031760454, Training Accuracy: 94.8173076923077\n",
      "Epoch 3/10, Batch 2700/4256, Training Loss: 0.18043935399502517, Training Accuracy: 94.81944444444444\n",
      "Epoch 3/10, Batch 2800/4256, Training Loss: 0.19770719756372274, Training Accuracy: 94.80357142857143\n",
      "Epoch 3/10, Batch 2900/4256, Training Loss: 0.14363565892912447, Training Accuracy: 94.84051724137932\n",
      "Epoch 3/10, Batch 3000/4256, Training Loss: 0.1532223371695727, Training Accuracy: 94.82916666666667\n",
      "Epoch 3/10, Batch 3100/4256, Training Loss: 0.1379231304023415, Training Accuracy: 94.8508064516129\n",
      "Epoch 3/10, Batch 3200/4256, Training Loss: 0.14994454425759612, Training Accuracy: 94.875\n",
      "Epoch 3/10, Batch 3300/4256, Training Loss: 0.18756363273598253, Training Accuracy: 94.85984848484848\n",
      "Epoch 3/10, Batch 3400/4256, Training Loss: 0.16388930019922554, Training Accuracy: 94.84558823529412\n",
      "Epoch 3/10, Batch 3500/4256, Training Loss: 0.1511768523475621, Training Accuracy: 94.84642857142858\n",
      "Epoch 3/10, Batch 3600/4256, Training Loss: 0.14464088226435706, Training Accuracy: 94.86458333333333\n",
      "Epoch 3/10, Batch 3700/4256, Training Loss: 0.1578008736949414, Training Accuracy: 94.86486486486487\n",
      "Epoch 3/10, Batch 3800/4256, Training Loss: 0.11293564535677433, Training Accuracy: 94.89802631578948\n",
      "Epoch 3/10, Batch 3900/4256, Training Loss: 0.18992178496904671, Training Accuracy: 94.89423076923077\n",
      "Epoch 3/10, Batch 4000/4256, Training Loss: 0.1782692883675918, Training Accuracy: 94.878125\n",
      "Epoch 3/10, Batch 4100/4256, Training Loss: 0.17492134061641992, Training Accuracy: 94.86280487804878\n",
      "Epoch 3/10, Batch 4200/4256, Training Loss: 0.1892010780982673, Training Accuracy: 94.86011904761905\n",
      "Epoch 3/10, Training Loss: 0.0031608104918837455, Training Accuracy: 94.83948659206392%, Validation Loss: 0.24109946747426547, Validation Accuracy: 93.84253819036428%\n",
      "Epoch 4/10, Batch 100/4256, Training Loss: 0.1593337309733033, Training Accuracy: 95.25\n",
      "Epoch 4/10, Batch 200/4256, Training Loss: 0.10164442513836548, Training Accuracy: 95.875\n",
      "Epoch 4/10, Batch 300/4256, Training Loss: 0.09001118595013395, Training Accuracy: 96.54166666666667\n",
      "Epoch 4/10, Batch 400/4256, Training Loss: 0.07918691169004888, Training Accuracy: 96.78125\n",
      "Epoch 4/10, Batch 500/4256, Training Loss: 0.1426755875989329, Training Accuracy: 96.575\n",
      "Epoch 4/10, Batch 600/4256, Training Loss: 0.11278293988667429, Training Accuracy: 96.625\n",
      "Epoch 4/10, Batch 700/4256, Training Loss: 0.13873595277545975, Training Accuracy: 96.48214285714286\n",
      "Epoch 4/10, Batch 800/4256, Training Loss: 0.12401230810559355, Training Accuracy: 96.484375\n",
      "Epoch 4/10, Batch 900/4256, Training Loss: 0.14503555992851033, Training Accuracy: 96.43055555555556\n",
      "Epoch 4/10, Batch 1000/4256, Training Loss: 0.13181968332151883, Training Accuracy: 96.425\n",
      "Epoch 4/10, Batch 1100/4256, Training Loss: 0.16074827392585575, Training Accuracy: 96.38636363636364\n",
      "Epoch 4/10, Batch 1200/4256, Training Loss: 0.1564724358380772, Training Accuracy: 96.30208333333333\n",
      "Epoch 4/10, Batch 1300/4256, Training Loss: 0.12666060180403294, Training Accuracy: 96.25961538461539\n",
      "Epoch 4/10, Batch 1400/4256, Training Loss: 0.1581793790939264, Training Accuracy: 96.17857142857143\n",
      "Epoch 4/10, Batch 1500/4256, Training Loss: 0.13853006669320167, Training Accuracy: 96.125\n",
      "Epoch 4/10, Batch 1600/4256, Training Loss: 0.13801658964250238, Training Accuracy: 96.1171875\n",
      "Epoch 4/10, Batch 1700/4256, Training Loss: 0.11069808622589335, Training Accuracy: 96.13970588235294\n",
      "Epoch 4/10, Batch 1800/4256, Training Loss: 0.13432094395044258, Training Accuracy: 96.11111111111111\n",
      "Epoch 4/10, Batch 1900/4256, Training Loss: 0.13851602583657951, Training Accuracy: 96.0657894736842\n",
      "Epoch 4/10, Batch 2000/4256, Training Loss: 0.10395559107651935, Training Accuracy: 96.1\n",
      "Epoch 4/10, Batch 2100/4256, Training Loss: 0.1353419816470705, Training Accuracy: 96.10119047619048\n",
      "Epoch 4/10, Batch 2200/4256, Training Loss: 0.16703162409132347, Training Accuracy: 96.0340909090909\n",
      "Epoch 4/10, Batch 2300/4256, Training Loss: 0.12455485006561502, Training Accuracy: 96.03260869565217\n",
      "Epoch 4/10, Batch 2400/4256, Training Loss: 0.10700320300878957, Training Accuracy: 96.05208333333333\n",
      "Epoch 4/10, Batch 2500/4256, Training Loss: 0.16732910628896205, Training Accuracy: 95.99\n",
      "Epoch 4/10, Batch 2600/4256, Training Loss: 0.15571548650041223, Training Accuracy: 95.95192307692308\n",
      "Epoch 4/10, Batch 2700/4256, Training Loss: 0.14274436448467895, Training Accuracy: 95.92592592592592\n",
      "Epoch 4/10, Batch 2800/4256, Training Loss: 0.14103812371380628, Training Accuracy: 95.90178571428571\n",
      "Epoch 4/10, Batch 2900/4256, Training Loss: 0.14371787512907758, Training Accuracy: 95.875\n",
      "Epoch 4/10, Batch 3000/4256, Training Loss: 0.15314109076512977, Training Accuracy: 95.8375\n",
      "Epoch 4/10, Batch 3100/4256, Training Loss: 0.15234979277709498, Training Accuracy: 95.81451612903226\n",
      "Epoch 4/10, Batch 3200/4256, Training Loss: 0.10652191370958462, Training Accuracy: 95.82421875\n",
      "Epoch 4/10, Batch 3300/4256, Training Loss: 0.13219399708556012, Training Accuracy: 95.81060606060606\n",
      "Epoch 4/10, Batch 3400/4256, Training Loss: 0.12826843671500682, Training Accuracy: 95.81985294117646\n",
      "Epoch 4/10, Batch 3500/4256, Training Loss: 0.1291302301862743, Training Accuracy: 95.81071428571428\n",
      "Epoch 4/10, Batch 3600/4256, Training Loss: 0.11892921298043803, Training Accuracy: 95.81597222222223\n",
      "Epoch 4/10, Batch 3700/4256, Training Loss: 0.16204189847630915, Training Accuracy: 95.78716216216216\n",
      "Epoch 4/10, Batch 3800/4256, Training Loss: 0.1302647541940678, Training Accuracy: 95.80263157894737\n",
      "Epoch 4/10, Batch 3900/4256, Training Loss: 0.116177921340568, Training Accuracy: 95.82692307692308\n",
      "Epoch 4/10, Batch 4000/4256, Training Loss: 0.13054804660612718, Training Accuracy: 95.825\n",
      "Epoch 4/10, Batch 4100/4256, Training Loss: 0.1368111420981586, Training Accuracy: 95.83536585365853\n",
      "Epoch 4/10, Batch 4200/4256, Training Loss: 0.14579723049420865, Training Accuracy: 95.81845238095238\n",
      "Epoch 4/10, Training Loss: 0.002562657956598953, Training Accuracy: 95.80286075131436%, Validation Loss: 0.21966671661168657, Validation Accuracy: 94.17156286721504%\n",
      "Epoch 5/10, Batch 100/4256, Training Loss: 0.1367353754490614, Training Accuracy: 95.625\n",
      "Epoch 5/10, Batch 200/4256, Training Loss: 0.09629720133496449, Training Accuracy: 96.1875\n",
      "Epoch 5/10, Batch 300/4256, Training Loss: 0.11483725687954575, Training Accuracy: 96.125\n",
      "Epoch 5/10, Batch 400/4256, Training Loss: 0.11310974750318564, Training Accuracy: 96.125\n",
      "Epoch 5/10, Batch 500/4256, Training Loss: 0.10533461015555076, Training Accuracy: 96.05\n",
      "Epoch 5/10, Batch 600/4256, Training Loss: 0.09689923413912765, Training Accuracy: 96.16666666666667\n",
      "Epoch 5/10, Batch 700/4256, Training Loss: 0.11914517449913546, Training Accuracy: 96.19642857142857\n",
      "Epoch 5/10, Batch 800/4256, Training Loss: 0.09702448244439438, Training Accuracy: 96.25\n",
      "Epoch 5/10, Batch 900/4256, Training Loss: 0.1083373077842407, Training Accuracy: 96.20833333333333\n",
      "Epoch 5/10, Batch 1000/4256, Training Loss: 0.07614448350621388, Training Accuracy: 96.225\n",
      "Epoch 5/10, Batch 1100/4256, Training Loss: 0.10039899011258967, Training Accuracy: 96.27272727272727\n",
      "Epoch 5/10, Batch 1200/4256, Training Loss: 0.11419345715024974, Training Accuracy: 96.30208333333333\n",
      "Epoch 5/10, Batch 1300/4256, Training Loss: 0.109904586506309, Training Accuracy: 96.33653846153847\n",
      "Epoch 5/10, Batch 1400/4256, Training Loss: 0.08757772637996823, Training Accuracy: 96.38392857142857\n",
      "Epoch 5/10, Batch 1500/4256, Training Loss: 0.0848237430001609, Training Accuracy: 96.46666666666667\n",
      "Epoch 5/10, Batch 1600/4256, Training Loss: 0.10276825907756575, Training Accuracy: 96.46875\n",
      "Epoch 5/10, Batch 1700/4256, Training Loss: 0.10518317151581869, Training Accuracy: 96.47058823529412\n",
      "Epoch 5/10, Batch 1800/4256, Training Loss: 0.1045702250674367, Training Accuracy: 96.47916666666667\n",
      "Epoch 5/10, Batch 1900/4256, Training Loss: 0.1444690038857516, Training Accuracy: 96.39473684210526\n",
      "Epoch 5/10, Batch 2000/4256, Training Loss: 0.13606098840828054, Training Accuracy: 96.35\n",
      "Epoch 5/10, Batch 2100/4256, Training Loss: 0.12714619834558108, Training Accuracy: 96.33333333333333\n",
      "Epoch 5/10, Batch 2200/4256, Training Loss: 0.12619051645044238, Training Accuracy: 96.32386363636364\n",
      "Epoch 5/10, Batch 2300/4256, Training Loss: 0.1639386041351827, Training Accuracy: 96.26086956521739\n",
      "Epoch 5/10, Batch 2400/4256, Training Loss: 0.11845498823036905, Training Accuracy: 96.27604166666667\n",
      "Epoch 5/10, Batch 2500/4256, Training Loss: 0.11856079428689555, Training Accuracy: 96.285\n",
      "Epoch 5/10, Batch 2600/4256, Training Loss: 0.14333537783590145, Training Accuracy: 96.27884615384616\n",
      "Epoch 5/10, Batch 2700/4256, Training Loss: 0.13982376303290947, Training Accuracy: 96.24537037037037\n",
      "Epoch 5/10, Batch 2800/4256, Training Loss: 0.12176794478204102, Training Accuracy: 96.26785714285714\n",
      "Epoch 5/10, Batch 2900/4256, Training Loss: 0.10334883870440535, Training Accuracy: 96.28448275862068\n",
      "Epoch 5/10, Batch 3000/4256, Training Loss: 0.1620669582230039, Training Accuracy: 96.24583333333334\n",
      "Epoch 5/10, Batch 3100/4256, Training Loss: 0.10678695917769801, Training Accuracy: 96.25806451612904\n",
      "Epoch 5/10, Batch 3200/4256, Training Loss: 0.11796491135959514, Training Accuracy: 96.27734375\n",
      "Epoch 5/10, Batch 3300/4256, Training Loss: 0.14090353349514773, Training Accuracy: 96.25378787878788\n",
      "Epoch 5/10, Batch 3400/4256, Training Loss: 0.14806910057668574, Training Accuracy: 96.2279411764706\n",
      "Epoch 5/10, Batch 3500/4256, Training Loss: 0.07686570564401336, Training Accuracy: 96.26428571428572\n",
      "Epoch 5/10, Batch 3600/4256, Training Loss: 0.11207896915380842, Training Accuracy: 96.26388888888889\n",
      "Epoch 5/10, Batch 3700/4256, Training Loss: 0.17656690933043137, Training Accuracy: 96.22297297297297\n",
      "Epoch 5/10, Batch 3800/4256, Training Loss: 0.08239543522940948, Training Accuracy: 96.25986842105263\n",
      "Epoch 5/10, Batch 3900/4256, Training Loss: 0.09700781209743582, Training Accuracy: 96.28846153846153\n",
      "Epoch 5/10, Batch 4000/4256, Training Loss: 0.09211400790081825, Training Accuracy: 96.29375\n",
      "Epoch 5/10, Batch 4100/4256, Training Loss: 0.1408090567472391, Training Accuracy: 96.29573170731707\n",
      "Epoch 5/10, Batch 4200/4256, Training Loss: 0.13187160413363017, Training Accuracy: 96.28571428571429\n",
      "Epoch 5/10, Training Loss: 0.0015996714987557056, Training Accuracy: 96.27867359826122%, Validation Loss: 0.18190448985369995, Validation Accuracy: 95.3701527614571%\n",
      "Epoch 6/10, Batch 100/4256, Training Loss: 0.09155595829244703, Training Accuracy: 97.0\n",
      "Epoch 6/10, Batch 200/4256, Training Loss: 0.08938733761548065, Training Accuracy: 96.75\n",
      "Epoch 6/10, Batch 300/4256, Training Loss: 0.10896088626701385, Training Accuracy: 96.91666666666667\n",
      "Epoch 6/10, Batch 400/4256, Training Loss: 0.08854503803304396, Training Accuracy: 97.03125\n",
      "Epoch 6/10, Batch 500/4256, Training Loss: 0.10622519179945812, Training Accuracy: 97.025\n",
      "Epoch 6/10, Batch 600/4256, Training Loss: 0.07751862566976342, Training Accuracy: 97.04166666666667\n",
      "Epoch 6/10, Batch 700/4256, Training Loss: 0.09447763706441037, Training Accuracy: 97.03571428571429\n",
      "Epoch 6/10, Batch 800/4256, Training Loss: 0.06587444668984972, Training Accuracy: 97.078125\n",
      "Epoch 6/10, Batch 900/4256, Training Loss: 0.05759321869467385, Training Accuracy: 97.27777777777777\n",
      "Epoch 6/10, Batch 1000/4256, Training Loss: 0.08930241524270968, Training Accuracy: 97.325\n",
      "Epoch 6/10, Batch 1100/4256, Training Loss: 0.07894523974158801, Training Accuracy: 97.36363636363636\n",
      "Epoch 6/10, Batch 1200/4256, Training Loss: 0.13989179507712834, Training Accuracy: 97.26041666666667\n",
      "Epoch 6/10, Batch 1300/4256, Training Loss: 0.09012653840909479, Training Accuracy: 97.22115384615384\n",
      "Epoch 6/10, Batch 1400/4256, Training Loss: 0.05970772634085733, Training Accuracy: 97.26785714285714\n",
      "Epoch 6/10, Batch 1500/4256, Training Loss: 0.10698631935054437, Training Accuracy: 97.2\n",
      "Epoch 6/10, Batch 1600/4256, Training Loss: 0.09396485732286237, Training Accuracy: 97.1640625\n",
      "Epoch 6/10, Batch 1700/4256, Training Loss: 0.13899624957935885, Training Accuracy: 97.02941176470588\n",
      "Epoch 6/10, Batch 1800/4256, Training Loss: 0.11348551700182724, Training Accuracy: 96.98611111111111\n",
      "Epoch 6/10, Batch 1900/4256, Training Loss: 0.08153806007117964, Training Accuracy: 97.01315789473684\n",
      "Epoch 6/10, Batch 2000/4256, Training Loss: 0.10115229536604602, Training Accuracy: 96.98125\n",
      "Epoch 6/10, Batch 2100/4256, Training Loss: 0.07066672520712018, Training Accuracy: 97.02380952380952\n",
      "Epoch 6/10, Batch 2200/4256, Training Loss: 0.09147636244713794, Training Accuracy: 97.05681818181819\n",
      "Epoch 6/10, Batch 2300/4256, Training Loss: 0.10389847962767818, Training Accuracy: 97.03260869565217\n",
      "Epoch 6/10, Batch 2400/4256, Training Loss: 0.09375803029630334, Training Accuracy: 97.03645833333333\n",
      "Epoch 6/10, Batch 2500/4256, Training Loss: 0.08554491403629072, Training Accuracy: 97.055\n",
      "Epoch 6/10, Batch 2600/4256, Training Loss: 0.16288967533269896, Training Accuracy: 96.9326923076923\n",
      "Epoch 6/10, Batch 2700/4256, Training Loss: 0.09991541918599978, Training Accuracy: 96.92592592592592\n",
      "Epoch 6/10, Batch 2800/4256, Training Loss: 0.13519051853974814, Training Accuracy: 96.88839285714286\n",
      "Epoch 6/10, Batch 2900/4256, Training Loss: 0.11004262557195034, Training Accuracy: 96.87931034482759\n",
      "Epoch 6/10, Batch 3000/4256, Training Loss: 0.10921200604643673, Training Accuracy: 96.8375\n",
      "Epoch 6/10, Batch 3100/4256, Training Loss: 0.1115397593867965, Training Accuracy: 96.83064516129032\n",
      "Epoch 6/10, Batch 3200/4256, Training Loss: 0.07751499785052146, Training Accuracy: 96.86328125\n",
      "Epoch 6/10, Batch 3300/4256, Training Loss: 0.10485989744309336, Training Accuracy: 96.85984848484848\n",
      "Epoch 6/10, Batch 3400/4256, Training Loss: 0.09560216669051443, Training Accuracy: 96.85661764705883\n",
      "Epoch 6/10, Batch 3500/4256, Training Loss: 0.0784086985560134, Training Accuracy: 96.88571428571429\n",
      "Epoch 6/10, Batch 3600/4256, Training Loss: 0.0810427842309582, Training Accuracy: 96.89236111111111\n",
      "Epoch 6/10, Batch 3700/4256, Training Loss: 0.09354405288468115, Training Accuracy: 96.89864864864865\n",
      "Epoch 6/10, Batch 3800/4256, Training Loss: 0.05897594258945901, Training Accuracy: 96.93092105263158\n",
      "Epoch 6/10, Batch 3900/4256, Training Loss: 0.10376429004012606, Training Accuracy: 96.92307692307692\n",
      "Epoch 6/10, Batch 4000/4256, Training Loss: 0.11097016679588706, Training Accuracy: 96.90625\n",
      "Epoch 6/10, Batch 4100/4256, Training Loss: 0.12028005887637847, Training Accuracy: 96.89024390243902\n",
      "Epoch 6/10, Batch 4200/4256, Training Loss: 0.0848862319230102, Training Accuracy: 96.90178571428571\n",
      "Epoch 6/10, Training Loss: 0.0009769344770417835, Training Accuracy: 96.90427937850619%, Validation Loss: 0.19157658874431385, Validation Accuracy: 95.4876615746181%\n",
      "Epoch 7/10, Batch 100/4256, Training Loss: 0.07847912498109508, Training Accuracy: 98.0\n",
      "Epoch 7/10, Batch 200/4256, Training Loss: 0.05733879695180803, Training Accuracy: 98.1875\n",
      "Epoch 7/10, Batch 300/4256, Training Loss: 0.07429998361039906, Training Accuracy: 97.91666666666667\n",
      "Epoch 7/10, Batch 400/4256, Training Loss: 0.05454397709458135, Training Accuracy: 98.0625\n",
      "Epoch 7/10, Batch 500/4256, Training Loss: 0.05476946472714189, Training Accuracy: 98.125\n",
      "Epoch 7/10, Batch 600/4256, Training Loss: 0.07781148924317677, Training Accuracy: 98.02083333333333\n",
      "Epoch 7/10, Batch 700/4256, Training Loss: 0.06501879669784102, Training Accuracy: 97.96428571428571\n",
      "Epoch 7/10, Batch 800/4256, Training Loss: 0.07306066002463922, Training Accuracy: 97.96875\n",
      "Epoch 7/10, Batch 900/4256, Training Loss: 0.08924062045640312, Training Accuracy: 97.875\n",
      "Epoch 7/10, Batch 1000/4256, Training Loss: 0.05979380285250954, Training Accuracy: 97.9125\n",
      "Epoch 7/10, Batch 1100/4256, Training Loss: 0.07479448471509385, Training Accuracy: 97.89772727272727\n",
      "Epoch 7/10, Batch 1200/4256, Training Loss: 0.07197691619920078, Training Accuracy: 97.9375\n",
      "Epoch 7/10, Batch 1300/4256, Training Loss: 0.09660111908218823, Training Accuracy: 97.83653846153847\n",
      "Epoch 7/10, Batch 1400/4256, Training Loss: 0.08228864250646438, Training Accuracy: 97.76785714285714\n",
      "Epoch 7/10, Batch 1500/4256, Training Loss: 0.07591147023718804, Training Accuracy: 97.725\n",
      "Epoch 7/10, Batch 1600/4256, Training Loss: 0.0681854596931953, Training Accuracy: 97.7265625\n",
      "Epoch 7/10, Batch 1700/4256, Training Loss: 0.11217493891890626, Training Accuracy: 97.61764705882354\n",
      "Epoch 7/10, Batch 1800/4256, Training Loss: 0.09783762513659894, Training Accuracy: 97.58333333333333\n",
      "Epoch 7/10, Batch 1900/4256, Training Loss: 0.09920097814756446, Training Accuracy: 97.51315789473684\n",
      "Epoch 7/10, Batch 2000/4256, Training Loss: 0.08461725176865002, Training Accuracy: 97.5125\n",
      "Epoch 7/10, Batch 2100/4256, Training Loss: 0.08255192318116315, Training Accuracy: 97.51785714285714\n",
      "Epoch 7/10, Batch 2200/4256, Training Loss: 0.06302023211377673, Training Accuracy: 97.55113636363636\n",
      "Epoch 7/10, Batch 2300/4256, Training Loss: 0.08901545395900029, Training Accuracy: 97.56521739130434\n",
      "Epoch 7/10, Batch 2400/4256, Training Loss: 0.09201678658311721, Training Accuracy: 97.53645833333333\n",
      "Epoch 7/10, Batch 2500/4256, Training Loss: 0.07830523120006547, Training Accuracy: 97.55\n",
      "Epoch 7/10, Batch 2600/4256, Training Loss: 0.08718353363656206, Training Accuracy: 97.53365384615384\n",
      "Epoch 7/10, Batch 2700/4256, Training Loss: 0.09267055005271686, Training Accuracy: 97.51388888888889\n",
      "Epoch 7/10, Batch 2800/4256, Training Loss: 0.09099799277610146, Training Accuracy: 97.49553571428571\n",
      "Epoch 7/10, Batch 2900/4256, Training Loss: 0.10639714538119734, Training Accuracy: 97.45258620689656\n",
      "Epoch 7/10, Batch 3000/4256, Training Loss: 0.1076354933984112, Training Accuracy: 97.425\n",
      "Epoch 7/10, Batch 3100/4256, Training Loss: 0.06926443424075841, Training Accuracy: 97.43951612903226\n",
      "Epoch 7/10, Batch 3200/4256, Training Loss: 0.07763932932313765, Training Accuracy: 97.453125\n",
      "Epoch 7/10, Batch 3300/4256, Training Loss: 0.07234244095219765, Training Accuracy: 97.46212121212122\n",
      "Epoch 7/10, Batch 3400/4256, Training Loss: 0.08623236245824956, Training Accuracy: 97.46323529411765\n",
      "Epoch 7/10, Batch 3500/4256, Training Loss: 0.09407570512383245, Training Accuracy: 97.46071428571429\n",
      "Epoch 7/10, Batch 3600/4256, Training Loss: 0.09674596993107115, Training Accuracy: 97.45138888888889\n",
      "Epoch 7/10, Batch 3700/4256, Training Loss: 0.03444908726145513, Training Accuracy: 97.49662162162163\n",
      "Epoch 7/10, Batch 3800/4256, Training Loss: 0.099045347191568, Training Accuracy: 97.47039473684211\n",
      "Epoch 7/10, Batch 3900/4256, Training Loss: 0.07773338615195825, Training Accuracy: 97.47115384615384\n",
      "Epoch 7/10, Batch 4000/4256, Training Loss: 0.09457543281110702, Training Accuracy: 97.459375\n",
      "Epoch 7/10, Batch 4100/4256, Training Loss: 0.08646674354560674, Training Accuracy: 97.45426829268293\n",
      "Epoch 7/10, Batch 4200/4256, Training Loss: 0.09596679248439614, Training Accuracy: 97.44642857142857\n",
      "Epoch 7/10, Training Loss: 0.0012833140581757394, Training Accuracy: 97.4270860868799%, Validation Loss: 0.20112125640752193, Validation Accuracy: 94.99412455934196%\n",
      "Epoch 8/10, Batch 100/4256, Training Loss: 0.06558566249674186, Training Accuracy: 98.25\n",
      "Epoch 8/10, Batch 200/4256, Training Loss: 0.055342078583489634, Training Accuracy: 98.3125\n",
      "Epoch 8/10, Batch 300/4256, Training Loss: 0.04532636660180287, Training Accuracy: 98.45833333333333\n",
      "Epoch 8/10, Batch 400/4256, Training Loss: 0.0561317516292911, Training Accuracy: 98.375\n",
      "Epoch 8/10, Batch 500/4256, Training Loss: 0.053431726518902, Training Accuracy: 98.4\n",
      "Epoch 8/10, Batch 600/4256, Training Loss: 0.0548600268928567, Training Accuracy: 98.39583333333333\n",
      "Epoch 8/10, Batch 700/4256, Training Loss: 0.050744303772225975, Training Accuracy: 98.46428571428571\n",
      "Epoch 8/10, Batch 800/4256, Training Loss: 0.05144502179682604, Training Accuracy: 98.4375\n",
      "Epoch 8/10, Batch 900/4256, Training Loss: 0.04497039028501604, Training Accuracy: 98.47222222222223\n",
      "Epoch 8/10, Batch 1000/4256, Training Loss: 0.03470435790310148, Training Accuracy: 98.4875\n",
      "Epoch 8/10, Batch 1100/4256, Training Loss: 0.02369408875470981, Training Accuracy: 98.55681818181819\n",
      "Epoch 8/10, Batch 1200/4256, Training Loss: 0.03411868881434202, Training Accuracy: 98.5625\n",
      "Epoch 8/10, Batch 1300/4256, Training Loss: 0.0471651034631941, Training Accuracy: 98.5576923076923\n",
      "Epoch 8/10, Batch 1400/4256, Training Loss: 0.03385051447374281, Training Accuracy: 98.58928571428571\n",
      "Epoch 8/10, Batch 1500/4256, Training Loss: 0.033369771924481026, Training Accuracy: 98.60833333333333\n",
      "Epoch 8/10, Batch 1600/4256, Training Loss: 0.04485884607434855, Training Accuracy: 98.59375\n",
      "Epoch 8/10, Batch 1700/4256, Training Loss: 0.051241757532116024, Training Accuracy: 98.56617647058823\n",
      "Epoch 8/10, Batch 1800/4256, Training Loss: 0.03819695761863841, Training Accuracy: 98.54861111111111\n",
      "Epoch 8/10, Batch 1900/4256, Training Loss: 0.02611897837516153, Training Accuracy: 98.57236842105263\n",
      "Epoch 8/10, Batch 2000/4256, Training Loss: 0.027807159398798832, Training Accuracy: 98.6\n",
      "Epoch 8/10, Batch 2100/4256, Training Loss: 0.028018615270993905, Training Accuracy: 98.61904761904762\n",
      "Epoch 8/10, Batch 2200/4256, Training Loss: 0.03299619984085439, Training Accuracy: 98.63636363636364\n",
      "Epoch 8/10, Batch 2300/4256, Training Loss: 0.02891081703339296, Training Accuracy: 98.6413043478261\n",
      "Epoch 8/10, Batch 2400/4256, Training Loss: 0.03458668837003643, Training Accuracy: 98.66666666666667\n",
      "Epoch 8/10, Batch 2500/4256, Training Loss: 0.02608118615229614, Training Accuracy: 98.685\n",
      "Epoch 8/10, Batch 2600/4256, Training Loss: 0.03393139432300814, Training Accuracy: 98.6923076923077\n",
      "Epoch 8/10, Batch 2700/4256, Training Loss: 0.040025422428007, Training Accuracy: 98.70833333333333\n",
      "Epoch 8/10, Batch 2800/4256, Training Loss: 0.03908354181941832, Training Accuracy: 98.70982142857143\n",
      "Epoch 8/10, Batch 2900/4256, Training Loss: 0.028030344815342688, Training Accuracy: 98.71982758620689\n",
      "Epoch 8/10, Batch 3000/4256, Training Loss: 0.02196912996500032, Training Accuracy: 98.7375\n",
      "Epoch 8/10, Batch 3100/4256, Training Loss: 0.023029243579512696, Training Accuracy: 98.75806451612904\n",
      "Epoch 8/10, Batch 3200/4256, Training Loss: 0.021250562814821024, Training Accuracy: 98.78125\n",
      "Epoch 8/10, Batch 3300/4256, Training Loss: 0.0258004839651403, Training Accuracy: 98.7840909090909\n",
      "Epoch 8/10, Batch 3400/4256, Training Loss: 0.02083325828600209, Training Accuracy: 98.80147058823529\n",
      "Epoch 8/10, Batch 3500/4256, Training Loss: 0.02438409578469873, Training Accuracy: 98.80714285714286\n",
      "Epoch 8/10, Batch 3600/4256, Training Loss: 0.030472435316332848, Training Accuracy: 98.80902777777777\n",
      "Epoch 8/10, Batch 3700/4256, Training Loss: 0.034504357793339296, Training Accuracy: 98.8108108108108\n",
      "Epoch 8/10, Batch 3800/4256, Training Loss: 0.02175224838167196, Training Accuracy: 98.82565789473684\n",
      "Epoch 8/10, Batch 3900/4256, Training Loss: 0.03137405070287059, Training Accuracy: 98.8301282051282\n",
      "Epoch 8/10, Batch 4000/4256, Training Loss: 0.027304990562261083, Training Accuracy: 98.840625\n",
      "Epoch 8/10, Batch 4100/4256, Training Loss: 0.015092299586976879, Training Accuracy: 98.85060975609755\n",
      "Epoch 8/10, Batch 4200/4256, Training Loss: 0.018988305342936655, Training Accuracy: 98.86011904761905\n",
      "Epoch 8/10, Training Loss: 0.00046739142110306046, Training Accuracy: 98.85746174405968%, Validation Loss: 0.1558289394285051, Validation Accuracy: 96.52173913043478%\n",
      "Epoch 9/10, Batch 100/4256, Training Loss: 0.02481339519552421, Training Accuracy: 99.125\n",
      "Epoch 9/10, Batch 200/4256, Training Loss: 0.024295388936734524, Training Accuracy: 99.0\n",
      "Epoch 9/10, Batch 300/4256, Training Loss: 0.02611623515651445, Training Accuracy: 99.0\n",
      "Epoch 9/10, Batch 400/4256, Training Loss: 0.021799919133482035, Training Accuracy: 99.125\n",
      "Epoch 9/10, Batch 500/4256, Training Loss: 0.020700013051537097, Training Accuracy: 99.15\n",
      "Epoch 9/10, Batch 600/4256, Training Loss: 0.013796336125524248, Training Accuracy: 99.22916666666667\n",
      "Epoch 9/10, Batch 700/4256, Training Loss: 0.019245461768005043, Training Accuracy: 99.28571428571429\n",
      "Epoch 9/10, Batch 800/4256, Training Loss: 0.022443485128023896, Training Accuracy: 99.234375\n",
      "Epoch 9/10, Batch 900/4256, Training Loss: 0.027962485004536575, Training Accuracy: 99.20833333333333\n",
      "Epoch 9/10, Batch 1000/4256, Training Loss: 0.013614615935075562, Training Accuracy: 99.2375\n",
      "Epoch 9/10, Batch 1100/4256, Training Loss: 0.02485467483245884, Training Accuracy: 99.2159090909091\n",
      "Epoch 9/10, Batch 1200/4256, Training Loss: 0.024394611494499258, Training Accuracy: 99.20833333333333\n",
      "Epoch 9/10, Batch 1300/4256, Training Loss: 0.013963346327582258, Training Accuracy: 99.23076923076923\n",
      "Epoch 9/10, Batch 1400/4256, Training Loss: 0.012910286501282826, Training Accuracy: 99.26785714285714\n",
      "Epoch 9/10, Batch 1500/4256, Training Loss: 0.02423771672110888, Training Accuracy: 99.26666666666667\n",
      "Epoch 9/10, Batch 1600/4256, Training Loss: 0.02295361313954345, Training Accuracy: 99.2734375\n",
      "Epoch 9/10, Batch 1700/4256, Training Loss: 0.014329551173213986, Training Accuracy: 99.28676470588235\n",
      "Epoch 9/10, Batch 1800/4256, Training Loss: 0.03669628597432165, Training Accuracy: 99.26388888888889\n",
      "Epoch 9/10, Batch 1900/4256, Training Loss: 0.020199377325188835, Training Accuracy: 99.26973684210526\n",
      "Epoch 9/10, Batch 2000/4256, Training Loss: 0.012375282262946713, Training Accuracy: 99.28125\n",
      "Epoch 9/10, Batch 2100/4256, Training Loss: 0.03347684066175134, Training Accuracy: 99.25\n",
      "Epoch 9/10, Batch 2200/4256, Training Loss: 0.02183319450086856, Training Accuracy: 99.25568181818181\n",
      "Epoch 9/10, Batch 2300/4256, Training Loss: 0.024322915854354504, Training Accuracy: 99.23913043478261\n",
      "Epoch 9/10, Batch 2400/4256, Training Loss: 0.040338753176038154, Training Accuracy: 99.22395833333333\n",
      "Epoch 9/10, Batch 2500/4256, Training Loss: 0.012695149864157429, Training Accuracy: 99.25\n",
      "Epoch 9/10, Batch 2600/4256, Training Loss: 0.02142804474911827, Training Accuracy: 99.25\n",
      "Epoch 9/10, Batch 2700/4256, Training Loss: 0.019170800870633685, Training Accuracy: 99.25925925925925\n",
      "Epoch 9/10, Batch 2800/4256, Training Loss: 0.010180532509548357, Training Accuracy: 99.27678571428571\n",
      "Epoch 9/10, Batch 2900/4256, Training Loss: 0.018503896755792084, Training Accuracy: 99.28017241379311\n",
      "Epoch 9/10, Batch 3000/4256, Training Loss: 0.0140972511821019, Training Accuracy: 99.29583333333333\n",
      "Epoch 9/10, Batch 3100/4256, Training Loss: 0.01891799624499981, Training Accuracy: 99.3024193548387\n",
      "Epoch 9/10, Batch 3200/4256, Training Loss: 0.02355689944102778, Training Accuracy: 99.29296875\n",
      "Epoch 9/10, Batch 3300/4256, Training Loss: 0.015260614236540277, Training Accuracy: 99.29545454545455\n",
      "Epoch 9/10, Batch 3400/4256, Training Loss: 0.02091360235703178, Training Accuracy: 99.2904411764706\n",
      "Epoch 9/10, Batch 3500/4256, Training Loss: 0.021270945552896593, Training Accuracy: 99.28571428571429\n",
      "Epoch 9/10, Batch 3600/4256, Training Loss: 0.02388761234295089, Training Accuracy: 99.27777777777777\n",
      "Epoch 9/10, Batch 3700/4256, Training Loss: 0.015867451283702393, Training Accuracy: 99.27702702702703\n",
      "Epoch 9/10, Batch 3800/4256, Training Loss: 0.02626085182026145, Training Accuracy: 99.26644736842105\n",
      "Epoch 9/10, Batch 3900/4256, Training Loss: 0.024299858298327308, Training Accuracy: 99.26602564102564\n",
      "Epoch 9/10, Batch 4000/4256, Training Loss: 0.015907735451255577, Training Accuracy: 99.265625\n",
      "Epoch 9/10, Batch 4100/4256, Training Loss: 0.02312461439643812, Training Accuracy: 99.26524390243902\n",
      "Epoch 9/10, Batch 4200/4256, Training Loss: 0.010640863873268245, Training Accuracy: 99.2797619047619\n",
      "Epoch 9/10, Training Loss: 0.00023460373138294743, Training Accuracy: 99.28040649690134%, Validation Loss: 0.16669197892042403, Validation Accuracy: 96.49823736780259%\n",
      "Epoch 10/10, Batch 100/4256, Training Loss: 0.015981793028186076, Training Accuracy: 99.375\n",
      "Epoch 10/10, Batch 200/4256, Training Loss: 0.015222348813476855, Training Accuracy: 99.5625\n",
      "Epoch 10/10, Batch 300/4256, Training Loss: 0.00871147428319091, Training Accuracy: 99.625\n",
      "Epoch 10/10, Batch 400/4256, Training Loss: 0.01946103191745351, Training Accuracy: 99.53125\n",
      "Epoch 10/10, Batch 500/4256, Training Loss: 0.019362871056364382, Training Accuracy: 99.5\n",
      "Epoch 10/10, Batch 600/4256, Training Loss: 0.02498732599611685, Training Accuracy: 99.4375\n",
      "Epoch 10/10, Batch 700/4256, Training Loss: 0.013166536493226886, Training Accuracy: 99.42857142857143\n",
      "Epoch 10/10, Batch 800/4256, Training Loss: 0.010186137526907259, Training Accuracy: 99.484375\n",
      "Epoch 10/10, Batch 900/4256, Training Loss: 0.011506724913342623, Training Accuracy: 99.48611111111111\n",
      "Epoch 10/10, Batch 1000/4256, Training Loss: 0.01689487213305256, Training Accuracy: 99.4875\n",
      "Epoch 10/10, Batch 1100/4256, Training Loss: 0.012479287965543335, Training Accuracy: 99.51136363636364\n",
      "Epoch 10/10, Batch 1200/4256, Training Loss: 0.016166796723846345, Training Accuracy: 99.52083333333333\n",
      "Epoch 10/10, Batch 1300/4256, Training Loss: 0.01514267346698034, Training Accuracy: 99.53846153846153\n",
      "Epoch 10/10, Batch 1400/4256, Training Loss: 0.014536899537706632, Training Accuracy: 99.51785714285714\n",
      "Epoch 10/10, Batch 1500/4256, Training Loss: 0.012618483316909988, Training Accuracy: 99.51666666666667\n",
      "Epoch 10/10, Batch 1600/4256, Training Loss: 0.018755316730967024, Training Accuracy: 99.5\n",
      "Epoch 10/10, Batch 1700/4256, Training Loss: 0.023942261855481775, Training Accuracy: 99.46323529411765\n",
      "Epoch 10/10, Batch 1800/4256, Training Loss: 0.01520345555341919, Training Accuracy: 99.46527777777777\n",
      "Epoch 10/10, Batch 1900/4256, Training Loss: 0.008432045406952965, Training Accuracy: 99.48026315789474\n",
      "Epoch 10/10, Batch 2000/4256, Training Loss: 0.012916278820994194, Training Accuracy: 99.4875\n",
      "Epoch 10/10, Batch 2100/4256, Training Loss: 0.02337669799788273, Training Accuracy: 99.48214285714286\n",
      "Epoch 10/10, Batch 2200/4256, Training Loss: 0.01912057841575006, Training Accuracy: 99.46022727272727\n",
      "Epoch 10/10, Batch 2300/4256, Training Loss: 0.01302874180379149, Training Accuracy: 99.46739130434783\n",
      "Epoch 10/10, Batch 2400/4256, Training Loss: 0.011746141288167564, Training Accuracy: 99.46875\n",
      "Epoch 10/10, Batch 2500/4256, Training Loss: 0.0161987687695364, Training Accuracy: 99.47\n",
      "Epoch 10/10, Batch 2600/4256, Training Loss: 0.014825778551676194, Training Accuracy: 99.46634615384616\n",
      "Epoch 10/10, Batch 2700/4256, Training Loss: 0.0057192440577637175, Training Accuracy: 99.48148148148148\n",
      "Epoch 10/10, Batch 2800/4256, Training Loss: 0.010290789735736326, Training Accuracy: 99.49553571428571\n",
      "Epoch 10/10, Batch 2900/4256, Training Loss: 0.015217353538319003, Training Accuracy: 99.49137931034483\n",
      "Epoch 10/10, Batch 3000/4256, Training Loss: 0.007536263845540816, Training Accuracy: 99.50416666666666\n",
      "Epoch 10/10, Batch 3100/4256, Training Loss: 0.018845627764967503, Training Accuracy: 99.49193548387096\n",
      "Epoch 10/10, Batch 3200/4256, Training Loss: 0.013553639751262381, Training Accuracy: 99.4921875\n",
      "Epoch 10/10, Batch 3300/4256, Training Loss: 0.014462635763993602, Training Accuracy: 99.48863636363636\n",
      "Epoch 10/10, Batch 3400/4256, Training Loss: 0.025010457434982526, Training Accuracy: 99.48161764705883\n",
      "Epoch 10/10, Batch 3500/4256, Training Loss: 0.009388062547805021, Training Accuracy: 99.48928571428571\n",
      "Epoch 10/10, Batch 3600/4256, Training Loss: 0.009299529720301507, Training Accuracy: 99.49305555555556\n",
      "Epoch 10/10, Batch 3700/4256, Training Loss: 0.007182382089813473, Training Accuracy: 99.5\n",
      "Epoch 10/10, Batch 3800/4256, Training Loss: 0.013783582635078347, Training Accuracy: 99.4967105263158\n",
      "Epoch 10/10, Batch 3900/4256, Training Loss: 0.010816304097679676, Training Accuracy: 99.5\n",
      "Epoch 10/10, Batch 4000/4256, Training Loss: 0.012313993414863944, Training Accuracy: 99.50625\n",
      "Epoch 10/10, Batch 4100/4256, Training Loss: 0.014039774539342034, Training Accuracy: 99.5030487804878\n",
      "Epoch 10/10, Batch 4200/4256, Training Loss: 0.010646989072447467, Training Accuracy: 99.50595238095238\n",
      "Epoch 10/10, Training Loss: 0.00014691877298271967, Training Accuracy: 99.50656445501807%, Validation Loss: 0.17690672531617588, Validation Accuracy: 96.63924794359578%\n"
     ]
    }
   ],
   "source": [
    "for epoch in range(num_epochs):\n",
    "    model.train()\n",
    "    running_loss = 0.0\n",
    "    correct_train = 0\n",
    "    total_train = 0\n",
    "\n",
    "    for i, (inputs, labels) in enumerate(train_loader):\n",
    "        inputs, labels = inputs.to(device), labels.to(device)\n",
    "        optimizer.zero_grad()\n",
    "        outputs = model(inputs)\n",
    "        loss = criterion(outputs, labels)\n",
    "        loss.backward()\n",
    "        optimizer.step()\n",
    "        running_loss += loss.item()\n",
    "\n",
    "        _, predicted_train = torch.max(outputs.data, 1)\n",
    "        total_train += labels.size(0)\n",
    "        correct_train += (predicted_train == labels).sum().item()\n",
    "\n",
    "        # Print training loss and accuracy every 100 batches\n",
    "        if i % 100 == 99:\n",
    "            print(f'Epoch {epoch + 1}/{num_epochs}, Batch {i + 1}/{len(train_loader)}, '\n",
    "                  f'Training Loss: {running_loss / 100}, Training Accuracy: {100 * correct_train / total_train}')\n",
    "            running_loss = 0.0\n",
    "\n",
    "    # Calculate training accuracy after the epoch\n",
    "    training_accuracy = correct_train / total_train\n",
    "\n",
    "    # Validation\n",
    "    model.eval()\n",
    "    correct_val = 0\n",
    "    total_val = 0\n",
    "    val_running_loss = 0.0\n",
    "\n",
    "    with torch.no_grad():\n",
    "        for inputs, labels in val_loader:\n",
    "            inputs, labels = inputs.to(device), labels.to(device)\n",
    "            outputs = model(inputs)\n",
    "            loss = criterion(outputs, labels)\n",
    "            val_running_loss += loss.item()\n",
    "\n",
    "            _, predicted_val = torch.max(outputs.data, 1)\n",
    "            total_val += labels.size(0)\n",
    "            correct_val += (predicted_val == labels).sum().item()\n",
    "\n",
    "            # Append predictions and targets for confusion matrix\n",
    "            predictions.append(predicted_val.cpu().numpy())\n",
    "            targets.append(labels.cpu().numpy())\n",
    "\n",
    "    # Calculate validation accuracy after the epoch\n",
    "    validation_accuracy = correct_val / total_val\n",
    "    average_val_loss = val_running_loss / len(val_loader)\n",
    "\n",
    "    print(f'Epoch {epoch + 1}/{num_epochs}, '\n",
    "          f'Training Loss: {running_loss / len(train_loader)}, '\n",
    "          f'Training Accuracy: {100 * training_accuracy}%, '\n",
    "          f'Validation Loss: {average_val_loss}, '\n",
    "          f'Validation Accuracy: {100 * validation_accuracy}%')\n",
    "\n",
    "    # Append training and validation metrics for plotting\n",
    "    train_losses.append(running_loss / len(train_loader))\n",
    "    train_accuracies.append(training_accuracy)\n",
    "    val_losses.append(average_val_loss)\n",
    "    val_accuracies.append(validation_accuracy)\n",
    "\n",
    "    scheduler.step()"
   ]
  },
  {
   "cell_type": "code",
   "execution_count": 21,
   "id": "0b107c67",
   "metadata": {
    "execution": {
     "iopub.execute_input": "2024-01-08T23:04:50.736320Z",
     "iopub.status.busy": "2024-01-08T23:04:50.735741Z",
     "iopub.status.idle": "2024-01-08T23:06:16.334403Z",
     "shell.execute_reply": "2024-01-08T23:06:16.333399Z"
    },
    "papermill": {
     "duration": 85.691481,
     "end_time": "2024-01-08T23:06:16.381982",
     "exception": false,
     "start_time": "2024-01-08T23:04:50.690501",
     "status": "completed"
    },
    "tags": []
   },
   "outputs": [
    {
     "name": "stdout",
     "output_type": "stream",
     "text": [
      "Test Accuracy: 96.80526192154099%\n"
     ]
    }
   ],
   "source": [
    "model.eval()\n",
    "correct = 0\n",
    "total = 0\n",
    "\n",
    "with torch.no_grad():\n",
    "    for inputs, labels in test_loader:\n",
    "        inputs, labels = inputs.to(device), labels.to(device)\n",
    "        outputs = model(inputs)\n",
    "        _, predicted = torch.max(outputs.data, 1)\n",
    "        total += labels.size(0)\n",
    "        correct += (predicted == labels).sum().item()\n",
    "\n",
    "test_accuracy = correct / total\n",
    "print(f'Test Accuracy: {100 * test_accuracy}%')"
   ]
  },
  {
   "cell_type": "markdown",
   "id": "5e30e6fd",
   "metadata": {
    "papermill": {
     "duration": 0.045384,
     "end_time": "2024-01-08T23:06:16.470725",
     "exception": false,
     "start_time": "2024-01-08T23:06:16.425341",
     "status": "completed"
    },
    "tags": []
   },
   "source": [
    "***VISUALIZE THE MODEL***"
   ]
  },
  {
   "cell_type": "code",
   "execution_count": 22,
   "id": "d8ace82e",
   "metadata": {
    "execution": {
     "iopub.execute_input": "2024-01-08T23:06:16.564061Z",
     "iopub.status.busy": "2024-01-08T23:06:16.563246Z",
     "iopub.status.idle": "2024-01-08T23:06:16.574169Z",
     "shell.execute_reply": "2024-01-08T23:06:16.573240Z"
    },
    "papermill": {
     "duration": 0.059194,
     "end_time": "2024-01-08T23:06:16.576368",
     "exception": false,
     "start_time": "2024-01-08T23:06:16.517174",
     "status": "completed"
    },
    "tags": []
   },
   "outputs": [
    {
     "data": {
      "text/plain": [
       "<Figure size 1200x400 with 0 Axes>"
      ]
     },
     "execution_count": 22,
     "metadata": {},
     "output_type": "execute_result"
    },
    {
     "data": {
      "text/plain": [
       "<Figure size 1200x400 with 0 Axes>"
      ]
     },
     "metadata": {},
     "output_type": "display_data"
    }
   ],
   "source": [
    "# Plotting loss and accuracy curves\n",
    "plt.figure(figsize=(12, 4))"
   ]
  },
  {
   "cell_type": "code",
   "execution_count": 23,
   "id": "d5229c9a",
   "metadata": {
    "execution": {
     "iopub.execute_input": "2024-01-08T23:06:16.665790Z",
     "iopub.status.busy": "2024-01-08T23:06:16.665489Z",
     "iopub.status.idle": "2024-01-08T23:06:16.953659Z",
     "shell.execute_reply": "2024-01-08T23:06:16.952825Z"
    },
    "papermill": {
     "duration": 0.334726,
     "end_time": "2024-01-08T23:06:16.955527",
     "exception": false,
     "start_time": "2024-01-08T23:06:16.620801",
     "status": "completed"
    },
    "tags": []
   },
   "outputs": [
    {
     "data": {
      "text/plain": [
       "<matplotlib.legend.Legend at 0x7f9e070aca00>"
      ]
     },
     "execution_count": 23,
     "metadata": {},
     "output_type": "execute_result"
    },
    {
     "data": {
      "image/png": "[encoded data removed]",
      "text/plain": [
       "<Figure size 640x480 with 1 Axes>"
      ]
     },
     "metadata": {},
     "output_type": "display_data"
    }
   ],
   "source": [
    "# Plotting training and validation loss\n",
    "plt.subplot(1, 2, 1)\n",
    "plt.plot(train_losses, label='Training Loss')\n",
    "plt.plot(val_losses, label='Validation Loss')\n",
    "plt.xlabel('Epoch')\n",
    "plt.ylabel('Loss')\n",
    "plt.title('Training and Validation Loss')\n",
    "plt.legend()"
   ]
  },
  {
   "cell_type": "code",
   "execution_count": 24,
   "id": "6faebc40",
   "metadata": {
    "execution": {
     "iopub.execute_input": "2024-01-08T23:06:17.050023Z",
     "iopub.status.busy": "2024-01-08T23:06:17.049660Z",
     "iopub.status.idle": "2024-01-08T23:06:17.397949Z",
     "shell.execute_reply": "2024-01-08T23:06:17.397055Z"
    },
    "papermill": {
     "duration": 0.39775,
     "end_time": "2024-01-08T23:06:17.400282",
     "exception": false,
     "start_time": "2024-01-08T23:06:17.002532",
     "status": "completed"
    },
    "tags": []
   },
   "outputs": [
    {
     "data": {
      "text/plain": [
       "<matplotlib.legend.Legend at 0x7f9e13e144f0>"
      ]
     },
     "execution_count": 24,
     "metadata": {},
     "output_type": "execute_result"
    },
    {
     "data": {
      "image/png": "[encoded data removed]",
      "text/plain": [
       "<Figure size 640x480 with 1 Axes>"
      ]
     },
     "metadata": {},
     "output_type": "display_data"
    }
   ],
   "source": [
    "# Plotting training and validation accuracy\n",
    "plt.subplot(1, 2, 2)\n",
    "plt.plot(train_accuracies, label='Training Accuracy')\n",
    "plt.plot(val_accuracies, label='Validation Accuracy')\n",
    "plt.xlabel('Epoch')\n",
    "plt.ylabel('Accuracy (%)')\n",
    "plt.title('Training and Validation Accuracy')\n",
    "plt.legend()"
   ]
  }
 ],
 "metadata": {
  "kaggle": {
   "accelerator": "nvidiaTeslaT4",
   "dataSources": [
    {
     "databundleVersionId": 7211464,
     "sourceId": 65471,
     "sourceType": "competition"
    }
   ],
   "dockerImageVersionId": 30627,
   "isGpuEnabled": true,
   "isInternetEnabled": true,
   "language": "python",
   "sourceType": "notebook"
  },
  "kernelspec": {
   "display_name": "Python 3",
   "language": "python",
   "name": "python3"
  },
  "language_info": {
   "codemirror_mode": {
    "name": "ipython",
    "version": 3
   },
   "file_extension": ".py",
   "mimetype": "text/x-python",
   "name": "python",
   "nbconvert_exporter": "python",
   "pygments_lexer": "ipython3",
   "version": "3.12.7"
  },
  "papermill": {
   "default_parameters": {},
   "duration": 16579.640468,
   "end_time": "2024-01-08T23:13:47.862824",
   "environment_variables": {},
   "exception": null,
   "input_path": "__notebook__.ipynb",
   "output_path": "__notebook__.ipynb",
   "parameters": {},
   "start_time": "2024-01-08T18:37:28.222356",
   "version": "2.4.0"
  }
 },
 "nbformat": 4,
 "nbformat_minor": 5
}
